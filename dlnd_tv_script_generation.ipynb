{
 "cells": [
  {
   "cell_type": "markdown",
   "metadata": {
    "deletable": true,
    "editable": true
   },
   "source": [
    "# TV Script Generation\n",
    "In this project, you'll generate your own [Simpsons](https://en.wikipedia.org/wiki/The_Simpsons) TV scripts using RNNs.  You'll be using part of the [Simpsons dataset](https://www.kaggle.com/wcukierski/the-simpsons-by-the-data) of scripts from 27 seasons.  The Neural Network you'll build will generate a new TV script for a scene at [Moe's Tavern](https://simpsonswiki.com/wiki/Moe's_Tavern).\n",
    "## Get the Data\n",
    "The data is already provided for you.  You'll be using a subset of the original dataset.  It consists of only the scenes in Moe's Tavern.  This doesn't include other versions of the tavern, like \"Moe's Cavern\", \"Flaming Moe's\", \"Uncle Moe's Family Feed-Bag\", etc.."
   ]
  },
  {
   "cell_type": "code",
   "execution_count": 1,
   "metadata": {
    "collapsed": false,
    "deletable": true,
    "editable": true
   },
   "outputs": [],
   "source": [
    "\"\"\"\n",
    "DON'T MODIFY ANYTHING IN THIS CELL\n",
    "\"\"\"\n",
    "import helper\n",
    "\n",
    "data_dir = './data/simpsons/moes_tavern_lines.txt'\n",
    "text = helper.load_data(data_dir)\n",
    "# Ignore notice, since we don't use it for analysing the data\n",
    "text = text[81:]"
   ]
  },
  {
   "cell_type": "markdown",
   "metadata": {
    "deletable": true,
    "editable": true
   },
   "source": [
    "## Explore the Data\n",
    "Play around with `view_sentence_range` to view different parts of the data."
   ]
  },
  {
   "cell_type": "code",
   "execution_count": 3,
   "metadata": {
    "collapsed": false,
    "deletable": true,
    "editable": true
   },
   "outputs": [
    {
     "name": "stdout",
     "output_type": "stream",
     "text": [
      "Dataset Stats\n",
      "Roughly the number of unique words: 11492\n",
      "Number of scenes: 262\n",
      "Average number of sentences in each scene: 15.251908396946565\n",
      "Number of lines: 4258\n",
      "Average number of words in each line: 11.50164396430249\n",
      "\n",
      "The sentences 70 to 90:\n",
      "Moe_Szyslak: Hiya, Homer. (SIGHS)\n",
      "Homer_Simpson: What's the matter, Moe?\n",
      "Moe_Szyslak: Ah, business is slow. People today are healthier and drinking less. You know, if it wasn't for the Junior High school next door no one would even use the cigarette machine.\n",
      "Homer_Simpson: (MOUTH FULL) Yeah, things are tough all over.\n",
      "Moe_Szyslak: Increased job satisfaction and family togetherness are poison for a purveyor of mind-numbing intoxicants like myself.\n",
      "Homer_Simpson: Could I get a beer?\n",
      "Moe_Szyslak: Uh, yeah, sure.\n",
      "Moe_Szyslak: Oh sorry, I forgot we're out of beer.\n",
      "Moe_Szyslak: Yeah, I know, I got behind on my beer payments. The distributor cut me off and I spent my last ten grand on the \"Love Tester\".\n",
      "Moe_Szyslak: You're too late, Homer. Barney sucked it dry. Cut his gums up pretty bad.\n",
      "Moe_Szyslak: Take it easy, Homer. I learned how to make other drinks at Bartender's School.\n",
      "Moe_Szyslak: (UNFAMILIAR) Gin and... tonic? Do they mix?\n",
      "Homer_Simpson: (BRIGHTENING) Hey, I know a good drink. Really hits the spot. I invented it myself...\n",
      "Moe_Szyslak: Sorry, Harv.\n",
      "Moe_Szyslak: Whoa, sounds like one hell of a drink. What do you call it?\n",
      "Homer_Simpson: A \"Flaming Homer\".\n",
      "Moe_Szyslak: Okay, why don't you make us up a couple of \"Flaming Homers\"?\n",
      "Homer_Simpson: Hey Moe, you got any cough syrup?\n",
      "Moe_Szyslak: Uh, let me check the lost and found.\n",
      "Moe_Szyslak: What do we got here, Bowie knife, troll doll, glass eye...\n"
     ]
    }
   ],
   "source": [
    "view_sentence_range = (70, 90)\n",
    "\n",
    "\"\"\"\n",
    "DON'T MODIFY ANYTHING IN THIS CELL\n",
    "\"\"\"\n",
    "import numpy as np\n",
    "\n",
    "print('Dataset Stats')\n",
    "print('Roughly the number of unique words: {}'.format(len({word: None for word in text.split()})))\n",
    "scenes = text.split('\\n\\n')\n",
    "print('Number of scenes: {}'.format(len(scenes)))\n",
    "sentence_count_scene = [scene.count('\\n') for scene in scenes]\n",
    "print('Average number of sentences in each scene: {}'.format(np.average(sentence_count_scene)))\n",
    "\n",
    "sentences = [sentence for scene in scenes for sentence in scene.split('\\n')]\n",
    "print('Number of lines: {}'.format(len(sentences)))\n",
    "word_count_sentence = [len(sentence.split()) for sentence in sentences]\n",
    "print('Average number of words in each line: {}'.format(np.average(word_count_sentence)))\n",
    "\n",
    "print()\n",
    "print('The sentences {} to {}:'.format(*view_sentence_range))\n",
    "print('\\n'.join(text.split('\\n')[view_sentence_range[0]:view_sentence_range[1]]))"
   ]
  },
  {
   "cell_type": "markdown",
   "metadata": {
    "deletable": true,
    "editable": true
   },
   "source": [
    "## Implement Preprocessing Functions\n",
    "The first thing to do to any dataset is preprocessing.  Implement the following preprocessing functions below:\n",
    "- Lookup Table\n",
    "- Tokenize Punctuation\n",
    "\n",
    "### Lookup Table\n",
    "To create a word embedding, you first need to transform the words to ids.  In this function, create two dictionaries:\n",
    "- Dictionary to go from the words to an id, we'll call `vocab_to_int`\n",
    "- Dictionary to go from the id to word, we'll call `int_to_vocab`\n",
    "\n",
    "Return these dictionaries in the following tuple `(vocab_to_int, int_to_vocab)`"
   ]
  },
  {
   "cell_type": "code",
   "execution_count": 9,
   "metadata": {
    "collapsed": false,
    "deletable": true,
    "editable": true
   },
   "outputs": [
    {
     "name": "stdout",
     "output_type": "stream",
     "text": [
      "Tests Passed\n"
     ]
    }
   ],
   "source": [
    "import numpy as np\n",
    "import problem_unittests as tests\n",
    "\n",
    "def create_lookup_tables(text):\n",
    "    \"\"\"\n",
    "    Create lookup tables for vocabulary\n",
    "    :param text: The text of tv scripts split into words\n",
    "    :return: A tuple of dicts (vocab_to_int, int_to_vocab)\n",
    "    \"\"\"\n",
    "    # TODO: Implement Function\n",
    "    vocab_to_int = {text[i]:i  for i in range(len(text))}\n",
    "    int_to_vocab = {v:k for k,v in vocab_to_int.items()}\n",
    "    \n",
    "    return (vocab_to_int, int_to_vocab)\n",
    "\n",
    "\n",
    "\"\"\"\n",
    "DON'T MODIFY ANYTHING IN THIS CELL THAT IS BELOW THIS LINE\n",
    "\"\"\"\n",
    "tests.test_create_lookup_tables(create_lookup_tables)"
   ]
  },
  {
   "cell_type": "markdown",
   "metadata": {
    "deletable": true,
    "editable": true
   },
   "source": [
    "### Tokenize Punctuation\n",
    "We'll be splitting the script into a word array using spaces as delimiters.  However, punctuations like periods and exclamation marks make it hard for the neural network to distinguish between the word \"bye\" and \"bye!\".\n",
    "\n",
    "Implement the function `token_lookup` to return a dict that will be used to tokenize symbols like \"!\" into \"||Exclamation_Mark||\".  Create a dictionary for the following symbols where the symbol is the key and value is the token:\n",
    "- Period ( . )\n",
    "- Comma ( , )\n",
    "- Quotation Mark ( \" )\n",
    "- Semicolon ( ; )\n",
    "- Exclamation mark ( ! )\n",
    "- Question mark ( ? )\n",
    "- Left Parentheses ( ( )\n",
    "- Right Parentheses ( ) )\n",
    "- Dash ( -- )\n",
    "- Return ( \\n )\n",
    "\n",
    "This dictionary will be used to token the symbols and add the delimiter (space) around it.  This separates the symbols as it's own word, making it easier for the neural network to predict on the next word. Make sure you don't use a token that could be confused as a word. Instead of using the token \"dash\", try using something like \"||dash||\"."
   ]
  },
  {
   "cell_type": "code",
   "execution_count": 1,
   "metadata": {
    "collapsed": false,
    "deletable": true,
    "editable": true
   },
   "outputs": [
    {
     "ename": "NameError",
     "evalue": "name 'tests' is not defined",
     "output_type": "error",
     "traceback": [
      "\u001b[0;31m---------------------------------------------------------------------------\u001b[0m",
      "\u001b[0;31mNameError\u001b[0m                                 Traceback (most recent call last)",
      "\u001b[0;32m<ipython-input-1-ca146e137683>\u001b[0m in \u001b[0;36m<module>\u001b[0;34m()\u001b[0m\n\u001b[1;32m     19\u001b[0m \u001b[0mDON\u001b[0m\u001b[0;31m'\u001b[0m\u001b[0mT\u001b[0m \u001b[0mMODIFY\u001b[0m \u001b[0mANYTHING\u001b[0m \u001b[0mIN\u001b[0m \u001b[0mTHIS\u001b[0m \u001b[0mCELL\u001b[0m \u001b[0mTHAT\u001b[0m \u001b[0mIS\u001b[0m \u001b[0mBELOW\u001b[0m \u001b[0mTHIS\u001b[0m \u001b[0mLINE\u001b[0m\u001b[1;33m\u001b[0m\u001b[0m\n\u001b[1;32m     20\u001b[0m \"\"\"\n\u001b[0;32m---> 21\u001b[0;31m \u001b[0mtests\u001b[0m\u001b[1;33m.\u001b[0m\u001b[0mtest_tokenize\u001b[0m\u001b[1;33m(\u001b[0m\u001b[0mtoken_lookup\u001b[0m\u001b[1;33m)\u001b[0m\u001b[1;33m\u001b[0m\u001b[0m\n\u001b[0m",
      "\u001b[0;31mNameError\u001b[0m: name 'tests' is not defined"
     ]
    }
   ],
   "source": [
    "def token_lookup():\n",
    "    \"\"\"\n",
    "    Generate a dict to turn punctuation into a token.\n",
    "    :return: Tokenize dictionary where the key is the punctuation and the value is the token\n",
    "    \"\"\"\n",
    "    # TODO: Implement Function\n",
    "    token={'||period||':'.','||comma||' :',','||quotationmark||':'\"','||semicolon||':';', '||exclamationmark||':'!','||questionmark||': '?',\n",
    "    '||leftparentheses||' :'(','||rightparentheses||' : ')','||dash||' :'--','||return||' :'\\n'}\n",
    "    token={v:k for k,v in token.items()}\n",
    "    return token\n",
    "\n",
    "\"\"\"\n",
    "DON'T MODIFY ANYTHING IN THIS CELL THAT IS BELOW THIS LINE\n",
    "\"\"\"\n",
    "tests.test_tokenize(token_lookup)"
   ]
  },
  {
   "cell_type": "markdown",
   "metadata": {
    "deletable": true,
    "editable": true
   },
   "source": [
    "## Preprocess all the data and save it\n",
    "Running the code cell below will preprocess all the data and save it to file."
   ]
  },
  {
   "cell_type": "code",
   "execution_count": 13,
   "metadata": {
    "collapsed": false,
    "deletable": true,
    "editable": true
   },
   "outputs": [],
   "source": [
    "\"\"\"\n",
    "DON'T MODIFY ANYTHING IN THIS CELL\n",
    "\"\"\"\n",
    "# Preprocess Training, Validation, and Testing Data\n",
    "helper.preprocess_and_save_data(data_dir, token_lookup, create_lookup_tables)"
   ]
  },
  {
   "cell_type": "markdown",
   "metadata": {
    "deletable": true,
    "editable": true
   },
   "source": [
    "# Check Point\n",
    "This is your first checkpoint. If you ever decide to come back to this notebook or have to restart the notebook, you can start from here. The preprocessed data has been saved to disk."
   ]
  },
  {
   "cell_type": "code",
   "execution_count": 2,
   "metadata": {
    "collapsed": false,
    "deletable": true,
    "editable": true
   },
   "outputs": [],
   "source": [
    "\"\"\"\n",
    "DON'T MODIFY ANYTHING IN THIS CELL\n",
    "\"\"\"\n",
    "import helper\n",
    "import numpy as np\n",
    "import problem_unittests as tests\n",
    "\n",
    "int_text, vocab_to_int, int_to_vocab, token_dict = helper.load_preprocess()"
   ]
  },
  {
   "cell_type": "markdown",
   "metadata": {
    "deletable": true,
    "editable": true
   },
   "source": [
    "## Build the Neural Network\n",
    "You'll build the components necessary to build a RNN by implementing the following functions below:\n",
    "- get_inputs\n",
    "- get_init_cell\n",
    "- get_embed\n",
    "- build_rnn\n",
    "- build_nn\n",
    "- get_batches\n",
    "\n",
    "### Check the Version of TensorFlow and Access to GPU"
   ]
  },
  {
   "cell_type": "code",
   "execution_count": 3,
   "metadata": {
    "collapsed": false
   },
   "outputs": [
    {
     "name": "stdout",
     "output_type": "stream",
     "text": [
      "TensorFlow Version: 1.0.0\n"
     ]
    },
    {
     "name": "stderr",
     "output_type": "stream",
     "text": [
      "C:\\ProgramData\\Anaconda3\\envs\\dlnd-tf-lab\\lib\\site-packages\\ipykernel\\__main__.py:14: UserWarning: No GPU found. Please use a GPU to train your neural network.\n"
     ]
    }
   ],
   "source": [
    "\"\"\"\n",
    "DON'T MODIFY ANYTHING IN THIS CELL\n",
    "\"\"\"\n",
    "from distutils.version import LooseVersion\n",
    "import warnings\n",
    "import tensorflow as tf\n",
    "\n",
    "# Check TensorFlow Version\n",
    "assert LooseVersion(tf.__version__) >= LooseVersion('1.0'), 'Please use TensorFlow version 1.0 or newer'\n",
    "print('TensorFlow Version: {}'.format(tf.__version__))\n",
    "\n",
    "# Check for a GPU\n",
    "if not tf.test.gpu_device_name():\n",
    "    warnings.warn('No GPU found. Please use a GPU to train your neural network.')\n",
    "else:\n",
    "    print('Default GPU Device: {}'.format(tf.test.gpu_device_name()))"
   ]
  },
  {
   "cell_type": "markdown",
   "metadata": {},
   "source": [
    "### Input\n",
    "Implement the `get_inputs()` function to create TF Placeholders for the Neural Network.  It should create the following placeholders:\n",
    "- Input text placeholder named \"input\" using the [TF Placeholder](https://www.tensorflow.org/api_docs/python/tf/placeholder) `name` parameter.\n",
    "- Targets placeholder\n",
    "- Learning Rate placeholder\n",
    "\n",
    "Return the placeholders in the following tuple `(Input, Targets, LearningRate)`"
   ]
  },
  {
   "cell_type": "code",
   "execution_count": 4,
   "metadata": {
    "collapsed": false,
    "deletable": true,
    "editable": true
   },
   "outputs": [
    {
     "name": "stdout",
     "output_type": "stream",
     "text": [
      "Tests Passed\n"
     ]
    }
   ],
   "source": [
    "def get_inputs():\n",
    "    \"\"\"\n",
    "    Create TF Placeholders for input, targets, and learning rate.\n",
    "    :return: Tuple (input, targets, learning rate)\n",
    "    \"\"\"\n",
    "    # TODO: Implement Function\n",
    "    inputs = tf.placeholder(tf.int32, [None, None], name='input')\n",
    "    targets = tf.placeholder(tf.int32, [None, None], name='targets')\n",
    "    learn_rate = tf.placeholder(tf.float32, name='learn_rate')\n",
    "    return (inputs, targets, learn_rate)\n",
    "\n",
    "\n",
    "\"\"\"\n",
    "DON'T MODIFY ANYTHING IN THIS CELL THAT IS BELOW THIS LINE\n",
    "\"\"\"\n",
    "tests.test_get_inputs(get_inputs)"
   ]
  },
  {
   "cell_type": "markdown",
   "metadata": {
    "deletable": true,
    "editable": true
   },
   "source": [
    "### Build RNN Cell and Initialize\n",
    "Stack one or more [`BasicLSTMCells`](https://www.tensorflow.org/api_docs/python/tf/contrib/rnn/BasicLSTMCell) in a [`MultiRNNCell`](https://www.tensorflow.org/api_docs/python/tf/contrib/rnn/MultiRNNCell).\n",
    "- The Rnn size should be set using `rnn_size`\n",
    "- Initalize Cell State using the MultiRNNCell's [`zero_state()`](https://www.tensorflow.org/api_docs/python/tf/contrib/rnn/MultiRNNCell#zero_state) function\n",
    "    - Apply the name \"initial_state\" to the initial state using [`tf.identity()`](https://www.tensorflow.org/api_docs/python/tf/identity)\n",
    "\n",
    "Return the cell and initial state in the following tuple `(Cell, InitialState)`"
   ]
  },
  {
   "cell_type": "code",
   "execution_count": 5,
   "metadata": {
    "collapsed": false,
    "deletable": true,
    "editable": true
   },
   "outputs": [
    {
     "name": "stdout",
     "output_type": "stream",
     "text": [
      "Tests Passed\n"
     ]
    }
   ],
   "source": [
    "def get_init_cell(batch_size, rnn_size):\n",
    "    \"\"\"\n",
    "    Create an RNN Cell and initialize it.\n",
    "    :param batch_size: Size of batches\n",
    "    :param rnn_size: Size of RNNs\n",
    "    :return: Tuple (cell, initialize state)\n",
    "    \"\"\"\n",
    "    # TODO: Implement Function\n",
    "    cell = tf.contrib.rnn.BasicLSTMCell(rnn_size)\n",
    "    cell = tf.contrib.rnn.MultiRNNCell([cell] * 2)\n",
    "    initial_state = cell.zero_state(batch_size, tf.int32)\n",
    "    initial_state = tf.identity(initial_state, name='initial_state')\n",
    "    return (cell, initial_state)\n",
    "\n",
    "\n",
    "\"\"\"\n",
    "DON'T MODIFY ANYTHING IN THIS CELL THAT IS BELOW THIS LINE\n",
    "\"\"\"\n",
    "tests.test_get_init_cell(get_init_cell)"
   ]
  },
  {
   "cell_type": "markdown",
   "metadata": {
    "deletable": true,
    "editable": true
   },
   "source": [
    "### Word Embedding\n",
    "Apply embedding to `input_data` using TensorFlow.  Return the embedded sequence."
   ]
  },
  {
   "cell_type": "code",
   "execution_count": 6,
   "metadata": {
    "collapsed": false,
    "deletable": true,
    "editable": true
   },
   "outputs": [
    {
     "name": "stdout",
     "output_type": "stream",
     "text": [
      "Tests Passed\n"
     ]
    }
   ],
   "source": [
    "def get_embed(input_data, vocab_size, embed_dim):\n",
    "    \"\"\"\n",
    "    Create embedding for <input_data>.\n",
    "    :param input_data: TF placeholder for text input.\n",
    "    :param vocab_size: Number of words in vocabulary.\n",
    "    :param embed_dim: Number of embedding dimensions\n",
    "    :return: Embedded input.\n",
    "    \"\"\"\n",
    "    # TODO: Implement Function\n",
    "    embedding = tf.Variable(tf.random_uniform([vocab_size, embed_dim], minval=-1, maxval=1,\n",
    "                                              name='embedding'))\n",
    "    embed = tf.nn.embedding_lookup(embedding, input_data)\n",
    "    return embed\n",
    "\n",
    "\n",
    "\"\"\"\n",
    "DON'T MODIFY ANYTHING IN THIS CELL THAT IS BELOW THIS LINE\n",
    "\"\"\"\n",
    "tests.test_get_embed(get_embed)"
   ]
  },
  {
   "cell_type": "markdown",
   "metadata": {
    "deletable": true,
    "editable": true
   },
   "source": [
    "### Build RNN\n",
    "You created a RNN Cell in the `get_init_cell()` function.  Time to use the cell to create a RNN.\n",
    "- Build the RNN using the [`tf.nn.dynamic_rnn()`](https://www.tensorflow.org/api_docs/python/tf/nn/dynamic_rnn)\n",
    " - Apply the name \"final_state\" to the final state using [`tf.identity()`](https://www.tensorflow.org/api_docs/python/tf/identity)\n",
    "\n",
    "Return the outputs and final_state state in the following tuple `(Outputs, FinalState)` "
   ]
  },
  {
   "cell_type": "code",
   "execution_count": 7,
   "metadata": {
    "collapsed": false,
    "deletable": true,
    "editable": true
   },
   "outputs": [
    {
     "name": "stdout",
     "output_type": "stream",
     "text": [
      "Tests Passed\n"
     ]
    }
   ],
   "source": [
    "def build_rnn(cell, inputs):\n",
    "    \"\"\"\n",
    "    Create a RNN using a RNN Cell\n",
    "    :param cell: RNN Cell\n",
    "    :param inputs: Input text data\n",
    "    :return: Tuple (Outputs, Final State)\n",
    "    \"\"\"\n",
    "    # TODO: Implement Function\n",
    "    outputs, final_state = tf.nn.dynamic_rnn(cell, inputs, dtype=tf.float32)\n",
    "    final_state = tf.identity(final_state, name='final_state')\n",
    "    return (outputs, final_state)\n",
    "\n",
    "\n",
    "\"\"\"\n",
    "DON'T MODIFY ANYTHING IN THIS CELL THAT IS BELOW THIS LINE\n",
    "\"\"\"\n",
    "tests.test_build_rnn(build_rnn)"
   ]
  },
  {
   "cell_type": "markdown",
   "metadata": {
    "deletable": true,
    "editable": true
   },
   "source": [
    "### Build the Neural Network\n",
    "Apply the functions you implemented above to:\n",
    "- Apply embedding to `input_data` using your `get_embed(input_data, vocab_size, embed_dim)` function.\n",
    "- Build RNN using `cell` and your `build_rnn(cell, inputs)` function.\n",
    "- Apply a fully connected layer with a linear activation and `vocab_size` as the number of outputs.\n",
    "\n",
    "Return the logits and final state in the following tuple (Logits, FinalState) "
   ]
  },
  {
   "cell_type": "code",
   "execution_count": 12,
   "metadata": {
    "collapsed": false,
    "deletable": true,
    "editable": true
   },
   "outputs": [
    {
     "name": "stdout",
     "output_type": "stream",
     "text": [
      "Tests Passed\n"
     ]
    }
   ],
   "source": [
    "def build_nn(cell, rnn_size, input_data, vocab_size):\n",
    "    \"\"\"\n",
    "    Build part of the neural network\n",
    "    :param cell: RNN cell\n",
    "    :param rnn_size: Size of rnns\n",
    "    :param input_data: Input data\n",
    "    :param vocab_size: Vocabulary size\n",
    "    :return: Tuple (Logits, FinalState)\n",
    "    \"\"\"\n",
    "    \n",
    "    # TODO: Implement Function\n",
    "    #- Apply embedding to `input_data` using your `get_embed(input_data, vocab_size, embed_dim)` function.\n",
    "    embed                = get_embed(input_data, vocab_size, 300) \n",
    "    \n",
    "    # Build RNN using `cell` and your `build_rnn(cell, inputs)` function.\n",
    "    outputs, final_state = build_rnn(cell, embed)\n",
    "    \n",
    "    #- Apply a fully connected layer with a linear activation and `vocab_size` as the number of outputs.\n",
    "    logits               = tf.contrib.layers.fully_connected(outputs, num_outputs=vocab_size,  activation_fn=None) #explicitly set to None for \n",
    "                                                                                                    # linear activation\n",
    "\n",
    "    return (logits, final_state)\n",
    "\n",
    "\n",
    "\"\"\"\n",
    "DON'T MODIFY ANYTHING IN THIS CELL THAT IS BELOW THIS LINE\n",
    "\"\"\"\n",
    "tests.test_build_nn(build_nn)"
   ]
  },
  {
   "cell_type": "markdown",
   "metadata": {
    "deletable": true,
    "editable": true
   },
   "source": [
    "### Batches\n",
    "Implement `get_batches` to create batches of input and targets using `int_text`.  The batches should be a Numpy array with the shape `(number of batches, 2, batch size, sequence length)`. Each batch contains two elements:\n",
    "- The first element is a single batch of **input** with the shape `[batch size, sequence length]`\n",
    "- The second element is a single batch of **targets** with the shape `[batch size, sequence length]`\n",
    "\n",
    "If you can't fill the last batch with enough data, drop the last batch.\n",
    "\n",
    "For exmple, `get_batches([1, 2, 3, 4, 5, 6, 7, 8, 9, 10, 11, 12, 13, 14, 15, 16, 17, 18, 19, 20], 3, 2)` would return a Numpy array of the following:\n",
    "```\n",
    "[\n",
    "  # First Batch\n",
    "  [\n",
    "    # Batch of Input\n",
    "    [[ 1  2], [ 7  8], [13 14]]\n",
    "    # Batch of targets\n",
    "    [[ 2  3], [ 8  9], [14 15]]\n",
    "  ]\n",
    "\n",
    "  # Second Batch\n",
    "  [\n",
    "    # Batch of Input\n",
    "    [[ 3  4], [ 9 10], [15 16]]\n",
    "    # Batch of targets\n",
    "    [[ 4  5], [10 11], [16 17]]\n",
    "  ]\n",
    "\n",
    "  # Third Batch\n",
    "  [\n",
    "    # Batch of Input\n",
    "    [[ 5  6], [11 12], [17 18]]\n",
    "    # Batch of targets\n",
    "    [[ 6  7], [12 13], [18  1]]\n",
    "  ]\n",
    "]\n",
    "```\n",
    "\n",
    "Notice that the last target value in the last batch is the first input value of the first batch. In this case, `1`. This is a common technique used when creating sequence batches, although it is rather unintuitive."
   ]
  },
  {
   "cell_type": "code",
   "execution_count": 83,
   "metadata": {
    "collapsed": false
   },
   "outputs": [
    {
     "data": {
      "text/plain": [
       "array([[[[ 1,  2],\n",
       "         [ 7,  8],\n",
       "         [13, 14]],\n",
       "\n",
       "        [[ 2,  3],\n",
       "         [ 8,  9],\n",
       "         [14, 15]]],\n",
       "\n",
       "\n",
       "       [[[ 3,  4],\n",
       "         [ 9, 10],\n",
       "         [15, 16]],\n",
       "\n",
       "        [[ 4,  5],\n",
       "         [10, 11],\n",
       "         [16, 17]]],\n",
       "\n",
       "\n",
       "       [[[ 5,  6],\n",
       "         [11, 12],\n",
       "         [17, 18]],\n",
       "\n",
       "        [[ 6,  7],\n",
       "         [12, 13],\n",
       "         [18,  1]]]])"
      ]
     },
     "execution_count": 83,
     "metadata": {},
     "output_type": "execute_result"
    }
   ],
   "source": [
    "a = get_batches([1, 2, 3, 4, 5, 6, 7, 8, 9, 10, 11, 12, 13, 14, 15, 16, 17, 18, 19, 20], 3, 2)\n",
    "a"
   ]
  },
  {
   "cell_type": "code",
   "execution_count": 1,
   "metadata": {
    "collapsed": false,
    "deletable": true,
    "editable": true
   },
   "outputs": [
    {
     "ename": "NameError",
     "evalue": "name 'tests' is not defined",
     "output_type": "error",
     "traceback": [
      "\u001b[0;31m---------------------------------------------------------------------------\u001b[0m",
      "\u001b[0;31mNameError\u001b[0m                                 Traceback (most recent call last)",
      "\u001b[0;32m<ipython-input-1-bdc3e81bca0b>\u001b[0m in \u001b[0;36m<module>\u001b[0;34m()\u001b[0m\n\u001b[1;32m     34\u001b[0m \u001b[0mDON\u001b[0m\u001b[0;31m'\u001b[0m\u001b[0mT\u001b[0m \u001b[0mMODIFY\u001b[0m \u001b[0mANYTHING\u001b[0m \u001b[0mIN\u001b[0m \u001b[0mTHIS\u001b[0m \u001b[0mCELL\u001b[0m \u001b[0mTHAT\u001b[0m \u001b[0mIS\u001b[0m \u001b[0mBELOW\u001b[0m \u001b[0mTHIS\u001b[0m \u001b[0mLINE\u001b[0m\u001b[1;33m\u001b[0m\u001b[0m\n\u001b[1;32m     35\u001b[0m \"\"\"\n\u001b[0;32m---> 36\u001b[0;31m \u001b[0mtests\u001b[0m\u001b[1;33m.\u001b[0m\u001b[0mtest_get_batches\u001b[0m\u001b[1;33m(\u001b[0m\u001b[0mget_batches\u001b[0m\u001b[1;33m)\u001b[0m\u001b[1;33m\u001b[0m\u001b[0m\n\u001b[0m",
      "\u001b[0;31mNameError\u001b[0m: name 'tests' is not defined"
     ]
    }
   ],
   "source": [
    "def get_batches(int_text, batch_size, seq_length):\n",
    "    \"\"\"\n",
    "    Return batches of input and target\n",
    "    :param int_text: Text with the words replaced by their ids\n",
    "    :param batch_size: The size of batch\n",
    "    :param seq_length: The length of sequence\n",
    "    :return: Batches as a Numpy array\n",
    "    \"\"\"\n",
    "    # TODO: Implement Function\n",
    "    n_batches = len(int_text)//(batch_size*seq_length)\n",
    "    \n",
    "    #assign array\n",
    "    all_batches=[]\n",
    "    \n",
    "    #two arrays, input and target\n",
    "    x, y=int_text[:n_batches*(batch_size*seq_length)], int_text[:n_batches*(batch_size*seq_length)+1] \n",
    "\n",
    "    for num in range(n_batches):\n",
    "        input_batch=[]\n",
    "        target_batch=[]\n",
    "        for ii in range(batch_size):\n",
    "            #insert input array into numpy array\n",
    "            input_batch.append(  x[seq_length*(n_batches*ii+num):seq_length*(n_batches*ii+num+1)]     ) \n",
    "            #insert target array into numpy array\n",
    "            target_batch.append( y[seq_length*(n_batches*ii+num)+1:seq_length*(n_batches*ii+num+1)+1] ) \n",
    "        all_batches.append( [input_batch]+[target_batch] )\n",
    "    array = np.array(all_batches)\n",
    "    last_id=np.array(list(array.shape))-1\n",
    "    array[last_id[0], last_id[1], last_id[2], last_id[3]] = array[0,0,0,0]\n",
    "    return array\n",
    "\n",
    "\n",
    "\"\"\"\n",
    "DON'T MODIFY ANYTHING IN THIS CELL THAT IS BELOW THIS LINE\n",
    "\"\"\"\n",
    "tests.test_get_batches(get_batches)"
   ]
  },
  {
   "cell_type": "markdown",
   "metadata": {
    "deletable": true,
    "editable": true
   },
   "source": [
    "## Neural Network Training\n",
    "### Hyperparameters\n",
    "Tune the following parameters:\n",
    "\n",
    "- Set `num_epochs` to the number of epochs.\n",
    "- Set `batch_size` to the batch size.\n",
    "- Set `rnn_size` to the size of the RNNs.\n",
    "- Set `embed_dim` to the size of the embedding.\n",
    "- Set `seq_length` to the length of sequence.\n",
    "- Set `learning_rate` to the learning rate.\n",
    "- Set `show_every_n_batches` to the number of batches the neural network should print progress."
   ]
  },
  {
   "cell_type": "code",
   "execution_count": 20,
   "metadata": {
    "collapsed": true,
    "deletable": true,
    "editable": true
   },
   "outputs": [],
   "source": [
    "# Number of Epochs\n",
    "num_epochs = 120\n",
    "# Batch Size\n",
    "batch_size = 128\n",
    "# RNN Size\n",
    "rnn_size = 128\n",
    "# Sequence Length\n",
    "seq_length = 20\n",
    "# Learning Rate\n",
    "learning_rate = 0.005\n",
    "# Show stats for every n number of batches\n",
    "show_every_n_batches = 5\n",
    "\n",
    "\"\"\"\n",
    "DON'T MODIFY ANYTHING IN THIS CELL THAT IS BELOW THIS LINE\n",
    "\"\"\"\n",
    "save_dir = './save'"
   ]
  },
  {
   "cell_type": "markdown",
   "metadata": {
    "deletable": true,
    "editable": true
   },
   "source": [
    "### Build the Graph\n",
    "Build the graph using the neural network you implemented."
   ]
  },
  {
   "cell_type": "code",
   "execution_count": 21,
   "metadata": {
    "collapsed": false,
    "deletable": true,
    "editable": true
   },
   "outputs": [],
   "source": [
    "\"\"\"\n",
    "DON'T MODIFY ANYTHING IN THIS CELL\n",
    "\"\"\"\n",
    "from tensorflow.contrib import seq2seq\n",
    "\n",
    "train_graph = tf.Graph()\n",
    "with train_graph.as_default():\n",
    "    vocab_size = len(int_to_vocab)\n",
    "    input_text, targets, lr = get_inputs()\n",
    "    input_data_shape = tf.shape(input_text)\n",
    "    cell, initial_state = get_init_cell(input_data_shape[0], rnn_size)\n",
    "    logits, final_state = build_nn(cell, rnn_size, input_text, vocab_size)\n",
    "\n",
    "    # Probabilities for generating words\n",
    "    probs = tf.nn.softmax(logits, name='probs')\n",
    "\n",
    "    # Loss function\n",
    "    cost = seq2seq.sequence_loss(\n",
    "        logits,\n",
    "        targets,\n",
    "        tf.ones([input_data_shape[0], input_data_shape[1]]))\n",
    "\n",
    "    # Optimizer\n",
    "    optimizer = tf.train.AdamOptimizer(lr)\n",
    "\n",
    "    # Gradient Clipping\n",
    "    gradients = optimizer.compute_gradients(cost)\n",
    "    capped_gradients = [(tf.clip_by_value(grad, -1., 1.), var) for grad, var in gradients if grad is not None]\n",
    "    train_op = optimizer.apply_gradients(capped_gradients)"
   ]
  },
  {
   "cell_type": "markdown",
   "metadata": {
    "deletable": true,
    "editable": true
   },
   "source": [
    "## Train\n",
    "Train the neural network on the preprocessed data.  If you have a hard time getting a good loss, check the [forms](https://discussions.udacity.com/) to see if anyone is having the same problem."
   ]
  },
  {
   "cell_type": "code",
   "execution_count": 22,
   "metadata": {
    "collapsed": false,
    "deletable": true,
    "editable": true
   },
   "outputs": [
    {
     "name": "stdout",
     "output_type": "stream",
     "text": [
      "Epoch   0 Batch    0/26   train_loss = 8.823\n",
      "Epoch   0 Batch    5/26   train_loss = 7.202\n",
      "Epoch   0 Batch   10/26   train_loss = 6.326\n",
      "Epoch   0 Batch   15/26   train_loss = 6.370\n",
      "Epoch   0 Batch   20/26   train_loss = 6.520\n",
      "Epoch   0 Batch   25/26   train_loss = 6.418\n",
      "Epoch   1 Batch    4/26   train_loss = 6.159\n",
      "Epoch   1 Batch    9/26   train_loss = 6.071\n",
      "Epoch   1 Batch   14/26   train_loss = 5.972\n",
      "Epoch   1 Batch   19/26   train_loss = 6.127\n",
      "Epoch   1 Batch   24/26   train_loss = 6.179\n",
      "Epoch   2 Batch    3/26   train_loss = 6.092\n",
      "Epoch   2 Batch    8/26   train_loss = 6.052\n",
      "Epoch   2 Batch   13/26   train_loss = 6.109\n",
      "Epoch   2 Batch   18/26   train_loss = 6.059\n",
      "Epoch   2 Batch   23/26   train_loss = 6.175\n",
      "Epoch   3 Batch    2/26   train_loss = 6.034\n",
      "Epoch   3 Batch    7/26   train_loss = 6.151\n",
      "Epoch   3 Batch   12/26   train_loss = 6.170\n",
      "Epoch   3 Batch   17/26   train_loss = 6.089\n",
      "Epoch   3 Batch   22/26   train_loss = 6.023\n",
      "Epoch   4 Batch    1/26   train_loss = 6.106\n",
      "Epoch   4 Batch    6/26   train_loss = 6.122\n",
      "Epoch   4 Batch   11/26   train_loss = 6.011\n",
      "Epoch   4 Batch   16/26   train_loss = 5.987\n",
      "Epoch   4 Batch   21/26   train_loss = 5.955\n",
      "Epoch   5 Batch    0/26   train_loss = 5.945\n",
      "Epoch   5 Batch    5/26   train_loss = 5.885\n",
      "Epoch   5 Batch   10/26   train_loss = 5.947\n",
      "Epoch   5 Batch   15/26   train_loss = 5.813\n",
      "Epoch   5 Batch   20/26   train_loss = 5.958\n",
      "Epoch   5 Batch   25/26   train_loss = 5.889\n",
      "Epoch   6 Batch    4/26   train_loss = 5.883\n",
      "Epoch   6 Batch    9/26   train_loss = 5.952\n",
      "Epoch   6 Batch   14/26   train_loss = 5.785\n",
      "Epoch   6 Batch   19/26   train_loss = 5.889\n",
      "Epoch   6 Batch   24/26   train_loss = 5.906\n",
      "Epoch   7 Batch    3/26   train_loss = 5.851\n",
      "Epoch   7 Batch    8/26   train_loss = 5.782\n",
      "Epoch   7 Batch   13/26   train_loss = 5.832\n",
      "Epoch   7 Batch   18/26   train_loss = 5.804\n",
      "Epoch   7 Batch   23/26   train_loss = 5.919\n",
      "Epoch   8 Batch    2/26   train_loss = 5.760\n",
      "Epoch   8 Batch    7/26   train_loss = 5.848\n",
      "Epoch   8 Batch   12/26   train_loss = 5.876\n",
      "Epoch   8 Batch   17/26   train_loss = 5.767\n",
      "Epoch   8 Batch   22/26   train_loss = 5.674\n",
      "Epoch   9 Batch    1/26   train_loss = 5.766\n",
      "Epoch   9 Batch    6/26   train_loss = 5.741\n",
      "Epoch   9 Batch   11/26   train_loss = 5.615\n",
      "Epoch   9 Batch   16/26   train_loss = 5.624\n",
      "Epoch   9 Batch   21/26   train_loss = 5.535\n",
      "Epoch  10 Batch    0/26   train_loss = 5.523\n",
      "Epoch  10 Batch    5/26   train_loss = 5.416\n",
      "Epoch  10 Batch   10/26   train_loss = 5.419\n",
      "Epoch  10 Batch   15/26   train_loss = 5.293\n",
      "Epoch  10 Batch   20/26   train_loss = 5.406\n",
      "Epoch  10 Batch   25/26   train_loss = 5.290\n",
      "Epoch  11 Batch    4/26   train_loss = 5.274\n",
      "Epoch  11 Batch    9/26   train_loss = 5.354\n",
      "Epoch  11 Batch   14/26   train_loss = 5.098\n",
      "Epoch  11 Batch   19/26   train_loss = 5.199\n",
      "Epoch  11 Batch   24/26   train_loss = 5.190\n",
      "Epoch  12 Batch    3/26   train_loss = 5.106\n",
      "Epoch  12 Batch    8/26   train_loss = 5.007\n",
      "Epoch  12 Batch   13/26   train_loss = 5.005\n",
      "Epoch  12 Batch   18/26   train_loss = 4.957\n",
      "Epoch  12 Batch   23/26   train_loss = 5.084\n",
      "Epoch  13 Batch    2/26   train_loss = 4.878\n",
      "Epoch  13 Batch    7/26   train_loss = 4.979\n",
      "Epoch  13 Batch   12/26   train_loss = 5.006\n",
      "Epoch  13 Batch   17/26   train_loss = 4.864\n",
      "Epoch  13 Batch   22/26   train_loss = 4.735\n",
      "Epoch  14 Batch    1/26   train_loss = 4.825\n",
      "Epoch  14 Batch    6/26   train_loss = 4.847\n",
      "Epoch  14 Batch   11/26   train_loss = 4.734\n",
      "Epoch  14 Batch   16/26   train_loss = 4.728\n",
      "Epoch  14 Batch   21/26   train_loss = 4.630\n",
      "Epoch  15 Batch    0/26   train_loss = 4.650\n",
      "Epoch  15 Batch    5/26   train_loss = 4.600\n",
      "Epoch  15 Batch   10/26   train_loss = 4.605\n",
      "Epoch  15 Batch   15/26   train_loss = 4.508\n",
      "Epoch  15 Batch   20/26   train_loss = 4.605\n",
      "Epoch  15 Batch   25/26   train_loss = 4.551\n",
      "Epoch  16 Batch    4/26   train_loss = 4.548\n",
      "Epoch  16 Batch    9/26   train_loss = 4.625\n",
      "Epoch  16 Batch   14/26   train_loss = 4.457\n",
      "Epoch  16 Batch   19/26   train_loss = 4.544\n",
      "Epoch  16 Batch   24/26   train_loss = 4.496\n",
      "Epoch  17 Batch    3/26   train_loss = 4.477\n",
      "Epoch  17 Batch    8/26   train_loss = 4.404\n",
      "Epoch  17 Batch   13/26   train_loss = 4.424\n",
      "Epoch  17 Batch   18/26   train_loss = 4.413\n",
      "Epoch  17 Batch   23/26   train_loss = 4.474\n",
      "Epoch  18 Batch    2/26   train_loss = 4.319\n",
      "Epoch  18 Batch    7/26   train_loss = 4.440\n",
      "Epoch  18 Batch   12/26   train_loss = 4.472\n",
      "Epoch  18 Batch   17/26   train_loss = 4.340\n",
      "Epoch  18 Batch   22/26   train_loss = 4.220\n",
      "Epoch  19 Batch    1/26   train_loss = 4.328\n",
      "Epoch  19 Batch    6/26   train_loss = 4.362\n",
      "Epoch  19 Batch   11/26   train_loss = 4.262\n",
      "Epoch  19 Batch   16/26   train_loss = 4.259\n",
      "Epoch  19 Batch   21/26   train_loss = 4.176\n",
      "Epoch  20 Batch    0/26   train_loss = 4.178\n",
      "Epoch  20 Batch    5/26   train_loss = 4.170\n",
      "Epoch  20 Batch   10/26   train_loss = 4.166\n",
      "Epoch  20 Batch   15/26   train_loss = 4.073\n",
      "Epoch  20 Batch   20/26   train_loss = 4.148\n",
      "Epoch  20 Batch   25/26   train_loss = 4.113\n",
      "Epoch  21 Batch    4/26   train_loss = 4.124\n",
      "Epoch  21 Batch    9/26   train_loss = 4.188\n",
      "Epoch  21 Batch   14/26   train_loss = 4.035\n",
      "Epoch  21 Batch   19/26   train_loss = 4.105\n",
      "Epoch  21 Batch   24/26   train_loss = 4.041\n",
      "Epoch  22 Batch    3/26   train_loss = 4.043\n",
      "Epoch  22 Batch    8/26   train_loss = 3.970\n",
      "Epoch  22 Batch   13/26   train_loss = 3.987\n",
      "Epoch  22 Batch   18/26   train_loss = 4.016\n",
      "Epoch  22 Batch   23/26   train_loss = 4.027\n",
      "Epoch  23 Batch    2/26   train_loss = 3.916\n",
      "Epoch  23 Batch    7/26   train_loss = 4.018\n",
      "Epoch  23 Batch   12/26   train_loss = 4.057\n",
      "Epoch  23 Batch   17/26   train_loss = 3.934\n",
      "Epoch  23 Batch   22/26   train_loss = 3.813\n",
      "Epoch  24 Batch    1/26   train_loss = 3.908\n",
      "Epoch  24 Batch    6/26   train_loss = 3.932\n",
      "Epoch  24 Batch   11/26   train_loss = 3.871\n",
      "Epoch  24 Batch   16/26   train_loss = 3.878\n",
      "Epoch  24 Batch   21/26   train_loss = 3.774\n",
      "Epoch  25 Batch    0/26   train_loss = 3.772\n",
      "Epoch  25 Batch    5/26   train_loss = 3.781\n",
      "Epoch  25 Batch   10/26   train_loss = 3.773\n",
      "Epoch  25 Batch   15/26   train_loss = 3.730\n",
      "Epoch  25 Batch   20/26   train_loss = 3.761\n",
      "Epoch  25 Batch   25/26   train_loss = 3.716\n",
      "Epoch  26 Batch    4/26   train_loss = 3.759\n",
      "Epoch  26 Batch    9/26   train_loss = 3.780\n",
      "Epoch  26 Batch   14/26   train_loss = 3.655\n",
      "Epoch  26 Batch   19/26   train_loss = 3.706\n",
      "Epoch  26 Batch   24/26   train_loss = 3.627\n",
      "Epoch  27 Batch    3/26   train_loss = 3.668\n",
      "Epoch  27 Batch    8/26   train_loss = 3.609\n",
      "Epoch  27 Batch   13/26   train_loss = 3.575\n",
      "Epoch  27 Batch   18/26   train_loss = 3.645\n",
      "Epoch  27 Batch   23/26   train_loss = 3.621\n",
      "Epoch  28 Batch    2/26   train_loss = 3.541\n",
      "Epoch  28 Batch    7/26   train_loss = 3.621\n",
      "Epoch  28 Batch   12/26   train_loss = 3.657\n",
      "Epoch  28 Batch   17/26   train_loss = 3.528\n",
      "Epoch  28 Batch   22/26   train_loss = 3.434\n",
      "Epoch  29 Batch    1/26   train_loss = 3.514\n",
      "Epoch  29 Batch    6/26   train_loss = 3.514\n",
      "Epoch  29 Batch   11/26   train_loss = 3.504\n",
      "Epoch  29 Batch   16/26   train_loss = 3.511\n",
      "Epoch  29 Batch   21/26   train_loss = 3.428\n",
      "Epoch  30 Batch    0/26   train_loss = 3.400\n",
      "Epoch  30 Batch    5/26   train_loss = 3.413\n",
      "Epoch  30 Batch   10/26   train_loss = 3.416\n",
      "Epoch  30 Batch   15/26   train_loss = 3.383\n",
      "Epoch  30 Batch   20/26   train_loss = 3.399\n",
      "Epoch  30 Batch   25/26   train_loss = 3.389\n",
      "Epoch  31 Batch    4/26   train_loss = 3.429\n",
      "Epoch  31 Batch    9/26   train_loss = 3.427\n",
      "Epoch  31 Batch   14/26   train_loss = 3.349\n",
      "Epoch  31 Batch   19/26   train_loss = 3.368\n",
      "Epoch  31 Batch   24/26   train_loss = 3.282\n",
      "Epoch  32 Batch    3/26   train_loss = 3.311\n",
      "Epoch  32 Batch    8/26   train_loss = 3.268\n",
      "Epoch  32 Batch   13/26   train_loss = 3.231\n",
      "Epoch  32 Batch   18/26   train_loss = 3.302\n",
      "Epoch  32 Batch   23/26   train_loss = 3.296\n",
      "Epoch  33 Batch    2/26   train_loss = 3.217\n",
      "Epoch  33 Batch    7/26   train_loss = 3.254\n",
      "Epoch  33 Batch   12/26   train_loss = 3.310\n",
      "Epoch  33 Batch   17/26   train_loss = 3.240\n",
      "Epoch  33 Batch   22/26   train_loss = 3.136\n",
      "Epoch  34 Batch    1/26   train_loss = 3.189\n",
      "Epoch  34 Batch    6/26   train_loss = 3.194\n",
      "Epoch  34 Batch   11/26   train_loss = 3.197\n",
      "Epoch  34 Batch   16/26   train_loss = 3.223\n",
      "Epoch  34 Batch   21/26   train_loss = 3.121\n",
      "Epoch  35 Batch    0/26   train_loss = 3.098\n",
      "Epoch  35 Batch    5/26   train_loss = 3.136\n",
      "Epoch  35 Batch   10/26   train_loss = 3.116\n",
      "Epoch  35 Batch   15/26   train_loss = 3.123\n",
      "Epoch  35 Batch   20/26   train_loss = 3.076\n",
      "Epoch  35 Batch   25/26   train_loss = 3.077\n",
      "Epoch  36 Batch    4/26   train_loss = 3.133\n",
      "Epoch  36 Batch    9/26   train_loss = 3.097\n",
      "Epoch  36 Batch   14/26   train_loss = 3.072\n",
      "Epoch  36 Batch   19/26   train_loss = 3.073\n",
      "Epoch  36 Batch   24/26   train_loss = 2.958\n",
      "Epoch  37 Batch    3/26   train_loss = 2.996\n",
      "Epoch  37 Batch    8/26   train_loss = 2.952\n",
      "Epoch  37 Batch   13/26   train_loss = 2.896\n",
      "Epoch  37 Batch   18/26   train_loss = 3.008\n",
      "Epoch  37 Batch   23/26   train_loss = 2.968\n",
      "Epoch  38 Batch    2/26   train_loss = 2.916\n",
      "Epoch  38 Batch    7/26   train_loss = 2.923\n",
      "Epoch  38 Batch   12/26   train_loss = 2.980\n",
      "Epoch  38 Batch   17/26   train_loss = 2.925\n",
      "Epoch  38 Batch   22/26   train_loss = 2.857\n",
      "Epoch  39 Batch    1/26   train_loss = 2.870\n",
      "Epoch  39 Batch    6/26   train_loss = 2.872\n",
      "Epoch  39 Batch   11/26   train_loss = 2.881\n",
      "Epoch  39 Batch   16/26   train_loss = 2.904\n",
      "Epoch  39 Batch   21/26   train_loss = 2.821\n",
      "Epoch  40 Batch    0/26   train_loss = 2.807\n",
      "Epoch  40 Batch    5/26   train_loss = 2.867\n",
      "Epoch  40 Batch   10/26   train_loss = 2.812\n",
      "Epoch  40 Batch   15/26   train_loss = 2.835\n",
      "Epoch  40 Batch   20/26   train_loss = 2.748\n",
      "Epoch  40 Batch   25/26   train_loss = 2.763\n",
      "Epoch  41 Batch    4/26   train_loss = 2.824\n",
      "Epoch  41 Batch    9/26   train_loss = 2.756\n",
      "Epoch  41 Batch   14/26   train_loss = 2.732\n",
      "Epoch  41 Batch   19/26   train_loss = 2.771\n",
      "Epoch  41 Batch   24/26   train_loss = 2.666\n",
      "Epoch  42 Batch    3/26   train_loss = 2.656\n",
      "Epoch  42 Batch    8/26   train_loss = 2.625\n",
      "Epoch  42 Batch   13/26   train_loss = 2.541\n",
      "Epoch  42 Batch   18/26   train_loss = 2.665\n",
      "Epoch  42 Batch   23/26   train_loss = 2.628\n",
      "Epoch  43 Batch    2/26   train_loss = 2.619\n",
      "Epoch  43 Batch    7/26   train_loss = 2.589\n",
      "Epoch  43 Batch   12/26   train_loss = 2.647\n",
      "Epoch  43 Batch   17/26   train_loss = 2.604\n",
      "Epoch  43 Batch   22/26   train_loss = 2.568\n",
      "Epoch  44 Batch    1/26   train_loss = 2.552\n",
      "Epoch  44 Batch    6/26   train_loss = 2.560\n",
      "Epoch  44 Batch   11/26   train_loss = 2.564\n",
      "Epoch  44 Batch   16/26   train_loss = 2.629\n",
      "Epoch  44 Batch   21/26   train_loss = 2.564\n",
      "Epoch  45 Batch    0/26   train_loss = 2.527\n",
      "Epoch  45 Batch    5/26   train_loss = 2.590\n",
      "Epoch  45 Batch   10/26   train_loss = 2.541\n",
      "Epoch  45 Batch   15/26   train_loss = 2.575\n",
      "Epoch  45 Batch   20/26   train_loss = 2.483\n",
      "Epoch  45 Batch   25/26   train_loss = 2.549\n",
      "Epoch  46 Batch    4/26   train_loss = 2.650\n",
      "Epoch  46 Batch    9/26   train_loss = 2.522\n",
      "Epoch  46 Batch   14/26   train_loss = 2.507\n",
      "Epoch  46 Batch   19/26   train_loss = 2.533\n",
      "Epoch  46 Batch   24/26   train_loss = 2.441\n",
      "Epoch  47 Batch    3/26   train_loss = 2.453\n",
      "Epoch  47 Batch    8/26   train_loss = 2.424\n",
      "Epoch  47 Batch   13/26   train_loss = 2.374\n",
      "Epoch  47 Batch   18/26   train_loss = 2.489\n",
      "Epoch  47 Batch   23/26   train_loss = 2.428\n",
      "Epoch  48 Batch    2/26   train_loss = 2.453\n",
      "Epoch  48 Batch    7/26   train_loss = 2.411\n",
      "Epoch  48 Batch   12/26   train_loss = 2.433\n",
      "Epoch  48 Batch   17/26   train_loss = 2.411\n",
      "Epoch  48 Batch   22/26   train_loss = 2.388\n",
      "Epoch  49 Batch    1/26   train_loss = 2.383\n",
      "Epoch  49 Batch    6/26   train_loss = 2.355\n",
      "Epoch  49 Batch   11/26   train_loss = 2.364\n",
      "Epoch  49 Batch   16/26   train_loss = 2.409\n",
      "Epoch  49 Batch   21/26   train_loss = 2.356\n",
      "Epoch  50 Batch    0/26   train_loss = 2.339\n",
      "Epoch  50 Batch    5/26   train_loss = 2.397\n",
      "Epoch  50 Batch   10/26   train_loss = 2.344\n",
      "Epoch  50 Batch   15/26   train_loss = 2.404\n",
      "Epoch  50 Batch   20/26   train_loss = 2.271\n",
      "Epoch  50 Batch   25/26   train_loss = 2.291\n",
      "Epoch  51 Batch    4/26   train_loss = 2.393\n",
      "Epoch  51 Batch    9/26   train_loss = 2.288\n",
      "Epoch  51 Batch   14/26   train_loss = 2.248\n",
      "Epoch  51 Batch   19/26   train_loss = 2.277\n",
      "Epoch  51 Batch   24/26   train_loss = 2.200\n",
      "Epoch  52 Batch    3/26   train_loss = 2.236\n",
      "Epoch  52 Batch    8/26   train_loss = 2.146\n",
      "Epoch  52 Batch   13/26   train_loss = 2.073\n",
      "Epoch  52 Batch   18/26   train_loss = 2.198\n",
      "Epoch  52 Batch   23/26   train_loss = 2.121\n",
      "Epoch  53 Batch    2/26   train_loss = 2.181\n",
      "Epoch  53 Batch    7/26   train_loss = 2.093\n",
      "Epoch  53 Batch   12/26   train_loss = 2.154\n",
      "Epoch  53 Batch   17/26   train_loss = 2.128\n",
      "Epoch  53 Batch   22/26   train_loss = 2.099\n",
      "Epoch  54 Batch    1/26   train_loss = 2.068\n",
      "Epoch  54 Batch    6/26   train_loss = 2.066\n",
      "Epoch  54 Batch   11/26   train_loss = 2.078\n",
      "Epoch  54 Batch   16/26   train_loss = 2.115\n",
      "Epoch  54 Batch   21/26   train_loss = 2.070\n",
      "Epoch  55 Batch    0/26   train_loss = 2.061\n",
      "Epoch  55 Batch    5/26   train_loss = 2.132\n",
      "Epoch  55 Batch   10/26   train_loss = 2.044\n",
      "Epoch  55 Batch   15/26   train_loss = 2.103\n",
      "Epoch  55 Batch   20/26   train_loss = 1.973\n",
      "Epoch  55 Batch   25/26   train_loss = 2.052\n",
      "Epoch  56 Batch    4/26   train_loss = 2.090\n",
      "Epoch  56 Batch    9/26   train_loss = 2.042\n",
      "Epoch  56 Batch   14/26   train_loss = 2.022\n",
      "Epoch  56 Batch   19/26   train_loss = 2.021\n",
      "Epoch  56 Batch   24/26   train_loss = 1.971\n",
      "Epoch  57 Batch    3/26   train_loss = 2.027\n",
      "Epoch  57 Batch    8/26   train_loss = 1.923\n",
      "Epoch  57 Batch   13/26   train_loss = 1.847\n",
      "Epoch  57 Batch   18/26   train_loss = 2.004\n",
      "Epoch  57 Batch   23/26   train_loss = 1.978\n",
      "Epoch  58 Batch    2/26   train_loss = 1.992\n",
      "Epoch  58 Batch    7/26   train_loss = 1.904\n",
      "Epoch  58 Batch   12/26   train_loss = 2.015\n",
      "Epoch  58 Batch   17/26   train_loss = 1.956\n",
      "Epoch  58 Batch   22/26   train_loss = 1.917\n",
      "Epoch  59 Batch    1/26   train_loss = 1.992\n",
      "Epoch  59 Batch    6/26   train_loss = 1.919\n",
      "Epoch  59 Batch   11/26   train_loss = 1.891\n",
      "Epoch  59 Batch   16/26   train_loss = 2.034\n",
      "Epoch  59 Batch   21/26   train_loss = 1.973\n",
      "Epoch  60 Batch    0/26   train_loss = 1.891\n",
      "Epoch  60 Batch    5/26   train_loss = 2.000\n",
      "Epoch  60 Batch   10/26   train_loss = 1.951\n",
      "Epoch  60 Batch   15/26   train_loss = 1.963\n",
      "Epoch  60 Batch   20/26   train_loss = 1.837\n",
      "Epoch  60 Batch   25/26   train_loss = 1.936\n",
      "Epoch  61 Batch    4/26   train_loss = 2.046\n",
      "Epoch  61 Batch    9/26   train_loss = 1.900\n",
      "Epoch  61 Batch   14/26   train_loss = 1.887\n",
      "Epoch  61 Batch   19/26   train_loss = 1.930\n",
      "Epoch  61 Batch   24/26   train_loss = 1.833\n",
      "Epoch  62 Batch    3/26   train_loss = 1.854\n",
      "Epoch  62 Batch    8/26   train_loss = 1.787\n",
      "Epoch  62 Batch   13/26   train_loss = 1.688\n",
      "Epoch  62 Batch   18/26   train_loss = 1.800\n",
      "Epoch  62 Batch   23/26   train_loss = 1.753\n",
      "Epoch  63 Batch    2/26   train_loss = 1.830\n",
      "Epoch  63 Batch    7/26   train_loss = 1.702\n",
      "Epoch  63 Batch   12/26   train_loss = 1.761\n",
      "Epoch  63 Batch   17/26   train_loss = 1.763\n",
      "Epoch  63 Batch   22/26   train_loss = 1.695\n",
      "Epoch  64 Batch    1/26   train_loss = 1.727\n",
      "Epoch  64 Batch    6/26   train_loss = 1.664\n",
      "Epoch  64 Batch   11/26   train_loss = 1.685\n",
      "Epoch  64 Batch   16/26   train_loss = 1.764\n",
      "Epoch  64 Batch   21/26   train_loss = 1.706\n",
      "Epoch  65 Batch    0/26   train_loss = 1.677\n",
      "Epoch  65 Batch    5/26   train_loss = 1.766\n",
      "Epoch  65 Batch   10/26   train_loss = 1.693\n",
      "Epoch  65 Batch   15/26   train_loss = 1.731\n",
      "Epoch  65 Batch   20/26   train_loss = 1.618\n",
      "Epoch  65 Batch   25/26   train_loss = 1.683\n",
      "Epoch  66 Batch    4/26   train_loss = 1.742\n",
      "Epoch  66 Batch    9/26   train_loss = 1.622\n",
      "Epoch  66 Batch   14/26   train_loss = 1.619\n",
      "Epoch  66 Batch   19/26   train_loss = 1.675\n",
      "Epoch  66 Batch   24/26   train_loss = 1.601\n",
      "Epoch  67 Batch    3/26   train_loss = 1.631\n",
      "Epoch  67 Batch    8/26   train_loss = 1.563\n",
      "Epoch  67 Batch   13/26   train_loss = 1.475\n",
      "Epoch  67 Batch   18/26   train_loss = 1.589\n",
      "Epoch  67 Batch   23/26   train_loss = 1.569\n",
      "Epoch  68 Batch    2/26   train_loss = 1.647\n",
      "Epoch  68 Batch    7/26   train_loss = 1.513\n",
      "Epoch  68 Batch   12/26   train_loss = 1.586\n",
      "Epoch  68 Batch   17/26   train_loss = 1.589\n",
      "Epoch  68 Batch   22/26   train_loss = 1.535\n",
      "Epoch  69 Batch    1/26   train_loss = 1.569\n",
      "Epoch  69 Batch    6/26   train_loss = 1.524\n",
      "Epoch  69 Batch   11/26   train_loss = 1.531\n",
      "Epoch  69 Batch   16/26   train_loss = 1.620\n",
      "Epoch  69 Batch   21/26   train_loss = 1.581\n",
      "Epoch  70 Batch    0/26   train_loss = 1.534\n",
      "Epoch  70 Batch    5/26   train_loss = 1.634\n",
      "Epoch  70 Batch   10/26   train_loss = 1.590\n",
      "Epoch  70 Batch   15/26   train_loss = 1.599\n",
      "Epoch  70 Batch   20/26   train_loss = 1.495\n",
      "Epoch  70 Batch   25/26   train_loss = 1.556\n",
      "Epoch  71 Batch    4/26   train_loss = 1.597\n",
      "Epoch  71 Batch    9/26   train_loss = 1.510\n",
      "Epoch  71 Batch   14/26   train_loss = 1.509\n",
      "Epoch  71 Batch   19/26   train_loss = 1.544\n",
      "Epoch  71 Batch   24/26   train_loss = 1.466\n",
      "Epoch  72 Batch    3/26   train_loss = 1.511\n",
      "Epoch  72 Batch    8/26   train_loss = 1.411\n",
      "Epoch  72 Batch   13/26   train_loss = 1.355\n",
      "Epoch  72 Batch   18/26   train_loss = 1.464\n",
      "Epoch  72 Batch   23/26   train_loss = 1.407\n",
      "Epoch  73 Batch    2/26   train_loss = 1.528\n",
      "Epoch  73 Batch    7/26   train_loss = 1.395\n",
      "Epoch  73 Batch   12/26   train_loss = 1.458\n",
      "Epoch  73 Batch   17/26   train_loss = 1.459\n",
      "Epoch  73 Batch   22/26   train_loss = 1.418\n",
      "Epoch  74 Batch    1/26   train_loss = 1.423\n",
      "Epoch  74 Batch    6/26   train_loss = 1.370\n",
      "Epoch  74 Batch   11/26   train_loss = 1.408\n",
      "Epoch  74 Batch   16/26   train_loss = 1.501\n",
      "Epoch  74 Batch   21/26   train_loss = 1.418\n",
      "Epoch  75 Batch    0/26   train_loss = 1.414\n",
      "Epoch  75 Batch    5/26   train_loss = 1.490\n",
      "Epoch  75 Batch   10/26   train_loss = 1.418\n",
      "Epoch  75 Batch   15/26   train_loss = 1.464\n",
      "Epoch  75 Batch   20/26   train_loss = 1.344\n",
      "Epoch  75 Batch   25/26   train_loss = 1.384\n",
      "Epoch  76 Batch    4/26   train_loss = 1.450\n",
      "Epoch  76 Batch    9/26   train_loss = 1.357\n",
      "Epoch  76 Batch   14/26   train_loss = 1.334\n",
      "Epoch  76 Batch   19/26   train_loss = 1.387\n",
      "Epoch  76 Batch   24/26   train_loss = 1.332\n",
      "Epoch  77 Batch    3/26   train_loss = 1.361\n",
      "Epoch  77 Batch    8/26   train_loss = 1.273\n",
      "Epoch  77 Batch   13/26   train_loss = 1.229\n",
      "Epoch  77 Batch   18/26   train_loss = 1.321\n",
      "Epoch  77 Batch   23/26   train_loss = 1.248\n",
      "Epoch  78 Batch    2/26   train_loss = 1.395\n",
      "Epoch  78 Batch    7/26   train_loss = 1.268\n",
      "Epoch  78 Batch   12/26   train_loss = 1.298\n",
      "Epoch  78 Batch   17/26   train_loss = 1.324\n",
      "Epoch  78 Batch   22/26   train_loss = 1.289\n",
      "Epoch  79 Batch    1/26   train_loss = 1.296\n",
      "Epoch  79 Batch    6/26   train_loss = 1.267\n",
      "Epoch  79 Batch   11/26   train_loss = 1.269\n",
      "Epoch  79 Batch   16/26   train_loss = 1.384\n",
      "Epoch  79 Batch   21/26   train_loss = 1.309\n",
      "Epoch  80 Batch    0/26   train_loss = 1.308\n",
      "Epoch  80 Batch    5/26   train_loss = 1.358\n",
      "Epoch  80 Batch   10/26   train_loss = 1.292\n",
      "Epoch  80 Batch   15/26   train_loss = 1.330\n",
      "Epoch  80 Batch   20/26   train_loss = 1.257\n",
      "Epoch  80 Batch   25/26   train_loss = 1.259\n",
      "Epoch  81 Batch    4/26   train_loss = 1.360\n",
      "Epoch  81 Batch    9/26   train_loss = 1.268\n",
      "Epoch  81 Batch   14/26   train_loss = 1.212\n",
      "Epoch  81 Batch   19/26   train_loss = 1.291\n",
      "Epoch  81 Batch   24/26   train_loss = 1.250\n",
      "Epoch  82 Batch    3/26   train_loss = 1.263\n",
      "Epoch  82 Batch    8/26   train_loss = 1.198\n",
      "Epoch  82 Batch   13/26   train_loss = 1.171\n",
      "Epoch  82 Batch   18/26   train_loss = 1.271\n",
      "Epoch  82 Batch   23/26   train_loss = 1.206\n",
      "Epoch  83 Batch    2/26   train_loss = 1.322\n",
      "Epoch  83 Batch    7/26   train_loss = 1.206\n",
      "Epoch  83 Batch   12/26   train_loss = 1.235\n",
      "Epoch  83 Batch   17/26   train_loss = 1.272\n",
      "Epoch  83 Batch   22/26   train_loss = 1.275\n",
      "Epoch  84 Batch    1/26   train_loss = 1.287\n",
      "Epoch  84 Batch    6/26   train_loss = 1.198\n",
      "Epoch  84 Batch   11/26   train_loss = 1.257\n",
      "Epoch  84 Batch   16/26   train_loss = 1.357\n",
      "Epoch  84 Batch   21/26   train_loss = 1.274\n",
      "Epoch  85 Batch    0/26   train_loss = 1.280\n",
      "Epoch  85 Batch    5/26   train_loss = 1.345\n",
      "Epoch  85 Batch   10/26   train_loss = 1.280\n",
      "Epoch  85 Batch   15/26   train_loss = 1.306\n",
      "Epoch  85 Batch   20/26   train_loss = 1.205\n",
      "Epoch  85 Batch   25/26   train_loss = 1.258\n",
      "Epoch  86 Batch    4/26   train_loss = 1.332\n",
      "Epoch  86 Batch    9/26   train_loss = 1.214\n",
      "Epoch  86 Batch   14/26   train_loss = 1.215\n",
      "Epoch  86 Batch   19/26   train_loss = 1.273\n",
      "Epoch  86 Batch   24/26   train_loss = 1.215\n",
      "Epoch  87 Batch    3/26   train_loss = 1.190\n",
      "Epoch  87 Batch    8/26   train_loss = 1.153\n",
      "Epoch  87 Batch   13/26   train_loss = 1.115\n",
      "Epoch  87 Batch   18/26   train_loss = 1.159\n",
      "Epoch  87 Batch   23/26   train_loss = 1.108\n",
      "Epoch  88 Batch    2/26   train_loss = 1.285\n",
      "Epoch  88 Batch    7/26   train_loss = 1.088\n",
      "Epoch  88 Batch   12/26   train_loss = 1.134\n",
      "Epoch  88 Batch   17/26   train_loss = 1.189\n",
      "Epoch  88 Batch   22/26   train_loss = 1.152\n",
      "Epoch  89 Batch    1/26   train_loss = 1.151\n",
      "Epoch  89 Batch    6/26   train_loss = 1.120\n",
      "Epoch  89 Batch   11/26   train_loss = 1.159\n",
      "Epoch  89 Batch   16/26   train_loss = 1.236\n",
      "Epoch  89 Batch   21/26   train_loss = 1.171\n",
      "Epoch  90 Batch    0/26   train_loss = 1.172\n",
      "Epoch  90 Batch    5/26   train_loss = 1.213\n",
      "Epoch  90 Batch   10/26   train_loss = 1.139\n",
      "Epoch  90 Batch   15/26   train_loss = 1.208\n",
      "Epoch  90 Batch   20/26   train_loss = 1.139\n",
      "Epoch  90 Batch   25/26   train_loss = 1.169\n",
      "Epoch  91 Batch    4/26   train_loss = 1.216\n",
      "Epoch  91 Batch    9/26   train_loss = 1.142\n",
      "Epoch  91 Batch   14/26   train_loss = 1.126\n",
      "Epoch  91 Batch   19/26   train_loss = 1.122\n",
      "Epoch  91 Batch   24/26   train_loss = 1.132\n",
      "Epoch  92 Batch    3/26   train_loss = 1.158\n",
      "Epoch  92 Batch    8/26   train_loss = 1.063\n",
      "Epoch  92 Batch   13/26   train_loss = 0.999\n",
      "Epoch  92 Batch   18/26   train_loss = 1.140\n",
      "Epoch  92 Batch   23/26   train_loss = 1.037\n",
      "Epoch  93 Batch    2/26   train_loss = 1.169\n",
      "Epoch  93 Batch    7/26   train_loss = 1.048\n",
      "Epoch  93 Batch   12/26   train_loss = 1.092\n",
      "Epoch  93 Batch   17/26   train_loss = 1.094\n",
      "Epoch  93 Batch   22/26   train_loss = 1.076\n",
      "Epoch  94 Batch    1/26   train_loss = 1.148\n",
      "Epoch  94 Batch    6/26   train_loss = 1.010\n",
      "Epoch  94 Batch   11/26   train_loss = 1.043\n",
      "Epoch  94 Batch   16/26   train_loss = 1.174\n",
      "Epoch  94 Batch   21/26   train_loss = 1.077\n",
      "Epoch  95 Batch    0/26   train_loss = 1.070\n",
      "Epoch  95 Batch    5/26   train_loss = 1.170\n",
      "Epoch  95 Batch   10/26   train_loss = 1.054\n",
      "Epoch  95 Batch   15/26   train_loss = 1.113\n",
      "Epoch  95 Batch   20/26   train_loss = 1.019\n",
      "Epoch  95 Batch   25/26   train_loss = 1.054\n",
      "Epoch  96 Batch    4/26   train_loss = 1.119\n",
      "Epoch  96 Batch    9/26   train_loss = 1.037\n",
      "Epoch  96 Batch   14/26   train_loss = 1.008\n",
      "Epoch  96 Batch   19/26   train_loss = 1.037\n",
      "Epoch  96 Batch   24/26   train_loss = 1.003\n",
      "Epoch  97 Batch    3/26   train_loss = 1.040\n",
      "Epoch  97 Batch    8/26   train_loss = 0.965\n",
      "Epoch  97 Batch   13/26   train_loss = 0.897\n",
      "Epoch  97 Batch   18/26   train_loss = 1.039\n",
      "Epoch  97 Batch   23/26   train_loss = 0.923\n",
      "Epoch  98 Batch    2/26   train_loss = 1.080\n",
      "Epoch  98 Batch    7/26   train_loss = 0.943\n",
      "Epoch  98 Batch   12/26   train_loss = 0.949\n",
      "Epoch  98 Batch   17/26   train_loss = 0.986\n",
      "Epoch  98 Batch   22/26   train_loss = 1.013\n",
      "Epoch  99 Batch    1/26   train_loss = 1.012\n",
      "Epoch  99 Batch    6/26   train_loss = 0.961\n",
      "Epoch  99 Batch   11/26   train_loss = 0.959\n",
      "Epoch  99 Batch   16/26   train_loss = 1.049\n",
      "Epoch  99 Batch   21/26   train_loss = 1.006\n",
      "Epoch 100 Batch    0/26   train_loss = 0.975\n",
      "Epoch 100 Batch    5/26   train_loss = 1.069\n",
      "Epoch 100 Batch   10/26   train_loss = 0.981\n",
      "Epoch 100 Batch   15/26   train_loss = 1.027\n",
      "Epoch 100 Batch   20/26   train_loss = 0.955\n",
      "Epoch 100 Batch   25/26   train_loss = 0.961\n",
      "Epoch 101 Batch    4/26   train_loss = 1.038\n",
      "Epoch 101 Batch    9/26   train_loss = 0.958\n",
      "Epoch 101 Batch   14/26   train_loss = 0.909\n",
      "Epoch 101 Batch   19/26   train_loss = 0.973\n",
      "Epoch 101 Batch   24/26   train_loss = 0.961\n",
      "Epoch 102 Batch    3/26   train_loss = 0.949\n",
      "Epoch 102 Batch    8/26   train_loss = 0.908\n",
      "Epoch 102 Batch   13/26   train_loss = 0.826\n",
      "Epoch 102 Batch   18/26   train_loss = 0.925\n",
      "Epoch 102 Batch   23/26   train_loss = 0.857\n",
      "Epoch 103 Batch    2/26   train_loss = 0.993\n",
      "Epoch 103 Batch    7/26   train_loss = 0.895\n",
      "Epoch 103 Batch   12/26   train_loss = 0.879\n",
      "Epoch 103 Batch   17/26   train_loss = 0.927\n",
      "Epoch 103 Batch   22/26   train_loss = 0.956\n",
      "Epoch 104 Batch    1/26   train_loss = 0.916\n",
      "Epoch 104 Batch    6/26   train_loss = 0.898\n",
      "Epoch 104 Batch   11/26   train_loss = 0.919\n",
      "Epoch 104 Batch   16/26   train_loss = 0.964\n",
      "Epoch 104 Batch   21/26   train_loss = 0.941\n",
      "Epoch 105 Batch    0/26   train_loss = 0.922\n",
      "Epoch 105 Batch    5/26   train_loss = 0.992\n",
      "Epoch 105 Batch   10/26   train_loss = 0.934\n",
      "Epoch 105 Batch   15/26   train_loss = 0.941\n",
      "Epoch 105 Batch   20/26   train_loss = 0.884\n",
      "Epoch 105 Batch   25/26   train_loss = 0.897\n",
      "Epoch 106 Batch    4/26   train_loss = 0.980\n",
      "Epoch 106 Batch    9/26   train_loss = 0.931\n",
      "Epoch 106 Batch   14/26   train_loss = 0.861\n",
      "Epoch 106 Batch   19/26   train_loss = 0.907\n",
      "Epoch 106 Batch   24/26   train_loss = 0.910\n",
      "Epoch 107 Batch    3/26   train_loss = 0.883\n",
      "Epoch 107 Batch    8/26   train_loss = 0.871\n",
      "Epoch 107 Batch   13/26   train_loss = 0.826\n",
      "Epoch 107 Batch   18/26   train_loss = 0.857\n",
      "Epoch 107 Batch   23/26   train_loss = 0.828\n",
      "Epoch 108 Batch    2/26   train_loss = 0.960\n",
      "Epoch 108 Batch    7/26   train_loss = 0.835\n",
      "Epoch 108 Batch   12/26   train_loss = 0.874\n",
      "Epoch 108 Batch   17/26   train_loss = 0.899\n",
      "Epoch 108 Batch   22/26   train_loss = 0.899\n",
      "Epoch 109 Batch    1/26   train_loss = 0.915\n",
      "Epoch 109 Batch    6/26   train_loss = 0.854\n",
      "Epoch 109 Batch   11/26   train_loss = 0.899\n",
      "Epoch 109 Batch   16/26   train_loss = 0.941\n",
      "Epoch 109 Batch   21/26   train_loss = 0.887\n",
      "Epoch 110 Batch    0/26   train_loss = 0.937\n",
      "Epoch 110 Batch    5/26   train_loss = 0.946\n",
      "Epoch 110 Batch   10/26   train_loss = 0.913\n",
      "Epoch 110 Batch   15/26   train_loss = 0.954\n",
      "Epoch 110 Batch   20/26   train_loss = 0.829\n",
      "Epoch 110 Batch   25/26   train_loss = 0.873\n",
      "Epoch 111 Batch    4/26   train_loss = 0.980\n",
      "Epoch 111 Batch    9/26   train_loss = 0.863\n",
      "Epoch 111 Batch   14/26   train_loss = 0.896\n",
      "Epoch 111 Batch   19/26   train_loss = 0.864\n",
      "Epoch 111 Batch   24/26   train_loss = 0.873\n",
      "Epoch 112 Batch    3/26   train_loss = 0.871\n",
      "Epoch 112 Batch    8/26   train_loss = 0.825\n",
      "Epoch 112 Batch   13/26   train_loss = 0.789\n",
      "Epoch 112 Batch   18/26   train_loss = 0.867\n",
      "Epoch 112 Batch   23/26   train_loss = 0.779\n",
      "Epoch 113 Batch    2/26   train_loss = 0.935\n",
      "Epoch 113 Batch    7/26   train_loss = 0.821\n",
      "Epoch 113 Batch   12/26   train_loss = 0.847\n",
      "Epoch 113 Batch   17/26   train_loss = 0.867\n",
      "Epoch 113 Batch   22/26   train_loss = 0.821\n",
      "Epoch 114 Batch    1/26   train_loss = 0.861\n",
      "Epoch 114 Batch    6/26   train_loss = 0.830\n",
      "Epoch 114 Batch   11/26   train_loss = 0.849\n",
      "Epoch 114 Batch   16/26   train_loss = 0.945\n",
      "Epoch 114 Batch   21/26   train_loss = 0.849\n",
      "Epoch 115 Batch    0/26   train_loss = 0.835\n",
      "Epoch 115 Batch    5/26   train_loss = 0.928\n",
      "Epoch 115 Batch   10/26   train_loss = 0.859\n",
      "Epoch 115 Batch   15/26   train_loss = 0.915\n",
      "Epoch 115 Batch   20/26   train_loss = 0.801\n",
      "Epoch 115 Batch   25/26   train_loss = 0.819\n",
      "Epoch 116 Batch    4/26   train_loss = 0.908\n",
      "Epoch 116 Batch    9/26   train_loss = 0.801\n",
      "Epoch 116 Batch   14/26   train_loss = 0.813\n",
      "Epoch 116 Batch   19/26   train_loss = 0.837\n",
      "Epoch 116 Batch   24/26   train_loss = 0.802\n",
      "Epoch 117 Batch    3/26   train_loss = 0.831\n",
      "Epoch 117 Batch    8/26   train_loss = 0.757\n",
      "Epoch 117 Batch   13/26   train_loss = 0.724\n",
      "Epoch 117 Batch   18/26   train_loss = 0.802\n",
      "Epoch 117 Batch   23/26   train_loss = 0.701\n",
      "Epoch 118 Batch    2/26   train_loss = 0.846\n",
      "Epoch 118 Batch    7/26   train_loss = 0.722\n",
      "Epoch 118 Batch   12/26   train_loss = 0.746\n",
      "Epoch 118 Batch   17/26   train_loss = 0.781\n",
      "Epoch 118 Batch   22/26   train_loss = 0.733\n",
      "Epoch 119 Batch    1/26   train_loss = 0.752\n",
      "Epoch 119 Batch    6/26   train_loss = 0.713\n",
      "Epoch 119 Batch   11/26   train_loss = 0.746\n",
      "Epoch 119 Batch   16/26   train_loss = 0.813\n",
      "Epoch 119 Batch   21/26   train_loss = 0.748\n",
      "Model Trained and Saved\n"
     ]
    }
   ],
   "source": [
    "\"\"\"\n",
    "DON'T MODIFY ANYTHING IN THIS CELL\n",
    "\"\"\"\n",
    "batches = get_batches(int_text, batch_size, seq_length)\n",
    "\n",
    "with tf.Session(graph=train_graph) as sess:\n",
    "    sess.run(tf.global_variables_initializer())\n",
    "\n",
    "    for epoch_i in range(num_epochs):\n",
    "        state = sess.run(initial_state, {input_text: batches[0][0]})\n",
    "\n",
    "        for batch_i, (x, y) in enumerate(batches):\n",
    "            feed = {\n",
    "                input_text: x,\n",
    "                targets: y,\n",
    "                initial_state: state,\n",
    "                lr: learning_rate}\n",
    "            train_loss, state, _ = sess.run([cost, final_state, train_op], feed)\n",
    "\n",
    "            # Show every <show_every_n_batches> batches\n",
    "            if (epoch_i * len(batches) + batch_i) % show_every_n_batches == 0:\n",
    "                print('Epoch {:>3} Batch {:>4}/{}   train_loss = {:.3f}'.format(\n",
    "                    epoch_i,\n",
    "                    batch_i,\n",
    "                    len(batches),\n",
    "                    train_loss))\n",
    "\n",
    "    # Save Model\n",
    "    saver = tf.train.Saver()\n",
    "    saver.save(sess, save_dir)\n",
    "    print('Model Trained and Saved')"
   ]
  },
  {
   "cell_type": "markdown",
   "metadata": {
    "deletable": true,
    "editable": true
   },
   "source": [
    "## Save Parameters\n",
    "Save `seq_length` and `save_dir` for generating a new TV script."
   ]
  },
  {
   "cell_type": "code",
   "execution_count": 23,
   "metadata": {
    "collapsed": false,
    "deletable": true,
    "editable": true
   },
   "outputs": [],
   "source": [
    "\"\"\"\n",
    "DON'T MODIFY ANYTHING IN THIS CELL\n",
    "\"\"\"\n",
    "# Save parameters for checkpoint\n",
    "helper.save_params((seq_length, save_dir))"
   ]
  },
  {
   "cell_type": "markdown",
   "metadata": {
    "deletable": true,
    "editable": true
   },
   "source": [
    "# Checkpoint"
   ]
  },
  {
   "cell_type": "code",
   "execution_count": 24,
   "metadata": {
    "collapsed": false,
    "deletable": true,
    "editable": true
   },
   "outputs": [],
   "source": [
    "\"\"\"\n",
    "DON'T MODIFY ANYTHING IN THIS CELL\n",
    "\"\"\"\n",
    "import tensorflow as tf\n",
    "import numpy as np\n",
    "import helper\n",
    "import problem_unittests as tests\n",
    "\n",
    "_, vocab_to_int, int_to_vocab, token_dict = helper.load_preprocess()\n",
    "seq_length, load_dir = helper.load_params()"
   ]
  },
  {
   "cell_type": "markdown",
   "metadata": {
    "deletable": true,
    "editable": true
   },
   "source": [
    "## Implement Generate Functions\n",
    "### Get Tensors\n",
    "Get tensors from `loaded_graph` using the function [`get_tensor_by_name()`](https://www.tensorflow.org/api_docs/python/tf/Graph#get_tensor_by_name).  Get the tensors using the following names:\n",
    "- \"input:0\"\n",
    "- \"initial_state:0\"\n",
    "- \"final_state:0\"\n",
    "- \"probs:0\"\n",
    "\n",
    "Return the tensors in the following tuple `(InputTensor, InitialStateTensor, FinalStateTensor, ProbsTensor)` "
   ]
  },
  {
   "cell_type": "code",
   "execution_count": 25,
   "metadata": {
    "collapsed": false,
    "deletable": true,
    "editable": true
   },
   "outputs": [
    {
     "name": "stdout",
     "output_type": "stream",
     "text": [
      "Tests Passed\n"
     ]
    }
   ],
   "source": [
    "def get_tensors(loaded_graph):\n",
    "    \"\"\"\n",
    "    Get input, initial state, final state, and probabilities tensor from <loaded_graph>\n",
    "    :param loaded_graph: TensorFlow graph loaded from file\n",
    "    :return: Tuple (InputTensor, InitialStateTensor, FinalStateTensor, ProbsTensor)\n",
    "    \"\"\"\n",
    "    # TODO: Implement Function\n",
    "    InputTensor        = loaded_graph.get_tensor_by_name(\"input:0\")\n",
    "    InitialStateTensor = loaded_graph.get_tensor_by_name(\"initial_state:0\")\n",
    "    FinalStateTensor   = loaded_graph.get_tensor_by_name(\"final_state:0\")\n",
    "    ProbsTensor        = loaded_graph.get_tensor_by_name(\"probs:0\")\n",
    "    return (InputTensor, InitialStateTensor, FinalStateTensor, ProbsTensor)\n",
    "\n",
    "\n",
    "\"\"\"\n",
    "DON'T MODIFY ANYTHING IN THIS CELL THAT IS BELOW THIS LINE\n",
    "\"\"\"\n",
    "tests.test_get_tensors(get_tensors)"
   ]
  },
  {
   "cell_type": "markdown",
   "metadata": {
    "deletable": true,
    "editable": true
   },
   "source": [
    "### Choose Word\n",
    "Implement the `pick_word()` function to select the next word using `probabilities`."
   ]
  },
  {
   "cell_type": "code",
   "execution_count": 26,
   "metadata": {
    "collapsed": false,
    "deletable": true,
    "editable": true
   },
   "outputs": [
    {
     "name": "stdout",
     "output_type": "stream",
     "text": [
      "Tests Passed\n"
     ]
    }
   ],
   "source": [
    "def pick_word(probabilities, int_to_vocab):\n",
    "    \"\"\"\n",
    "    Pick the next word in the generated text\n",
    "    :param probabilities: Probabilites of the next word\n",
    "    :param int_to_vocab: Dictionary of word ids as the keys and words as the values\n",
    "    :return: String of the predicted word\n",
    "    \"\"\"\n",
    "    # TODO: Implement Function        \n",
    "    return np.random.choice(list(int_to_vocab.values()), 1, p=probabilities)[0]\n",
    "\n",
    "\n",
    "\"\"\"\n",
    "DON'T MODIFY ANYTHING IN THIS CELL THAT IS BELOW THIS LINE\n",
    "\"\"\"\n",
    "tests.test_pick_word(pick_word)"
   ]
  },
  {
   "cell_type": "markdown",
   "metadata": {
    "deletable": true,
    "editable": true
   },
   "source": [
    "## Generate TV Script\n",
    "This will generate the TV script for you.  Set `gen_length` to the length of TV script you want to generate."
   ]
  },
  {
   "cell_type": "code",
   "execution_count": 27,
   "metadata": {
    "collapsed": false,
    "deletable": true,
    "editable": true
   },
   "outputs": [
    {
     "name": "stdout",
     "output_type": "stream",
     "text": [
      "moe_szyslak:(lifts index finger) to the scooter store!\n",
      "moe_szyslak: i did.(wistful) you can jump off the latin group?\n",
      "moe_szyslak: but moe, uh, as it says in the world,(beat) what? i don't need alcohol now.\n",
      "homer_simpson:(gasps) what happened here?\n",
      "homer_simpson:(smoothly) no, i'd like a monster!\n",
      "moe_szyslak:(to moe) that are the published author!\n",
      "carl_carlson:(amazed) ever been his wallet in his bow!\n",
      "moe_szyslak: oh, i always go.\n",
      "moe_szyslak: when-i-get-a-hold-of-you... a. / i love it.(shuts) so you're just gonna let me here.(laughs)\n",
      "comic_book_guy:(holding up lloyd) huh?\n",
      "snake_jailbird:(sings) my-y-y-y-y-y adeleine.\n",
      "seymour_skinner:(sings) shop kwik-e-mart and save...\n",
      "moe_szyslak: so, uh...(steely-eyed rage)\" general why...(changing subject) hey, sure, you know how much air is in here\" have\" world war\n"
     ]
    }
   ],
   "source": [
    "gen_length = 200\n",
    "# homer_simpson, moe_szyslak, or Barney_Gumble\n",
    "prime_word = 'moe_szyslak'\n",
    "\n",
    "\"\"\"\n",
    "DON'T MODIFY ANYTHING IN THIS CELL THAT IS BELOW THIS LINE\n",
    "\"\"\"\n",
    "loaded_graph = tf.Graph()\n",
    "with tf.Session(graph=loaded_graph) as sess:\n",
    "    # Load saved model\n",
    "    loader = tf.train.import_meta_graph(load_dir + '.meta')\n",
    "    loader.restore(sess, load_dir)\n",
    "\n",
    "    # Get Tensors from loaded model\n",
    "    input_text, initial_state, final_state, probs = get_tensors(loaded_graph)\n",
    "\n",
    "    # Sentences generation setup\n",
    "    gen_sentences = [prime_word + ':']\n",
    "    prev_state = sess.run(initial_state, {input_text: np.array([[1]])})\n",
    "\n",
    "    # Generate sentences\n",
    "    for n in range(gen_length):\n",
    "        # Dynamic Input\n",
    "        dyn_input = [[vocab_to_int[word] for word in gen_sentences[-seq_length:]]]\n",
    "        dyn_seq_length = len(dyn_input[0])\n",
    "\n",
    "        # Get Prediction\n",
    "        probabilities, prev_state = sess.run(\n",
    "            [probs, final_state],\n",
    "            {input_text: dyn_input, initial_state: prev_state})\n",
    "        \n",
    "        pred_word = pick_word(probabilities[dyn_seq_length-1], int_to_vocab)\n",
    "\n",
    "        gen_sentences.append(pred_word)\n",
    "    \n",
    "    # Remove tokens\n",
    "    tv_script = ' '.join(gen_sentences)\n",
    "    for key, token in token_dict.items():\n",
    "        ending = ' ' if key in ['\\n', '(', '\"'] else ''\n",
    "        tv_script = tv_script.replace(' ' + token.lower(), key)\n",
    "    tv_script = tv_script.replace('\\n ', '\\n')\n",
    "    tv_script = tv_script.replace('( ', '(')\n",
    "        \n",
    "    print(tv_script)"
   ]
  },
  {
   "cell_type": "markdown",
   "metadata": {
    "deletable": true,
    "editable": true
   },
   "source": [
    "# The TV Script is Nonsensical\n",
    "It's ok if the TV script doesn't make any sense.  We trained on less than a megabyte of text.  In order to get good results, you'll have to use a smaller vocabulary or get more data.  Luckly there's more data!  As we mentioned in the begging of this project, this is a subset of [another dataset](https://www.kaggle.com/wcukierski/the-simpsons-by-the-data).  We didn't have you train on all the data, because that would take too long.  However, you are free to train your neural network on all the data.  After you complete the project, of course.\n",
    "# Submitting This Project\n",
    "When submitting this project, make sure to run all the cells before saving the notebook. Save the notebook file as \"dlnd_tv_script_generation.ipynb\" and save it as a HTML file under \"File\" -> \"Download as\". Include the \"helper.py\" and \"problem_unittests.py\" files in your submission."
   ]
  }
 ],
 "metadata": {
  "kernelspec": {
   "display_name": "Python 3",
   "language": "python",
   "name": "python3"
  },
  "language_info": {
   "codemirror_mode": {
    "name": "ipython",
    "version": 3
   },
   "file_extension": ".py",
   "mimetype": "text/x-python",
   "name": "python",
   "nbconvert_exporter": "python",
   "pygments_lexer": "ipython3",
   "version": "3.5.2"
  }
 },
 "nbformat": 4,
 "nbformat_minor": 0
}
